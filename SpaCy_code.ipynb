{
  "nbformat": 4,
  "nbformat_minor": 0,
  "metadata": {
    "colab": {
      "provenance": []
    },
    "kernelspec": {
      "name": "python3",
      "display_name": "Python 3"
    },
    "language_info": {
      "name": "python"
    }
  },
  "cells": [
    {
      "cell_type": "markdown",
      "source": [
        "How to do text summarization?\n",
        "1. Data Cleaning\n",
        "2. Word Tokenization\n",
        "3. Word Frequency Table\n",
        "4. Sentence Tokenization\n",
        "5. Summarization"
      ],
      "metadata": {
        "id": "c8tmfmYroFyz"
      }
    },
    {
      "cell_type": "code",
      "execution_count": null,
      "metadata": {
        "id": "JG_Q_n6UnrcK"
      },
      "outputs": [],
      "source": [
        "text = \"\"\"\n",
        "Ever noticed how plane seats appear to be getting smaller and smaller? With increasing numbers of people taking to the skies, some experts are questioning if having such packed out planes is putting passengers at risk. They say that the shrinking space on aeroplanes is not only uncomfortable - it's putting our health and safety in danger. More than squabbling over the arm rest, shrinking space on planes putting our health and safety in danger? This week, a U.S consumer advisory group set up by the Department of Transportation said at a public hearing that while the government is happy to set standards for animals flying on planes, it doesn't stipulate a minimum amount of space for humans. 'In a world where animals have more rights to space and food than humans,' said Charlie Leocha, consumer representative on the committee. 'It is time that the DOT and FAA take a stand for humane treatment of passengers.' But could crowding on planes lead to more serious issues than fighting for space in the overhead lockers, crashing elbows and seat back kicking? Tests conducted by the FAA use planes with a 31 inch pitch, a standard which on some airlines has decreased . Many economy seats on United Airlines have 30 inches of room, while some airlines offer as little as 28 inches . Cynthia Corbertt, a human factors researcher with the Federal Aviation Administration, that it conducts tests on how quickly passengers can leave a plane. But these tests are conducted using planes with 31 inches between each row of seats, a standard which on some airlines has decreased, reported the Detroit News. The distance between two seats from one point on a seat to the same point on the seat behind it is known as the pitch. While most airlines stick to a pitch of 31 inches or above, some fall below this. While United Airlines has 30 inches of space, Gulf Air economy seats have between 29 and 32 inches, Air Asia offers 29 inches and Spirit Airlines offers just 28 inches. British Airways has a seat pitch of 31 inches, while easyJet has 29 inches, Thomson's short haul seat pitch is 28 inches, and Virgin Atlantic's is 30-31.\n",
        "\"\"\""
      ]
    },
    {
      "cell_type": "markdown",
      "source": [
        "## Starting with spacy lib"
      ],
      "metadata": {
        "id": "t6AItpWNpEFQ"
      }
    },
    {
      "cell_type": "code",
      "source": [
        "!pip install -U spacy\n",
        "!python -m spacy download en_core_web_sm"
      ],
      "metadata": {
        "colab": {
          "base_uri": "https://localhost:8080/"
        },
        "id": "a9ao0LvTo6C3",
        "outputId": "79239d45-a5e9-4b6b-9db3-6127e51cfbcc"
      },
      "execution_count": null,
      "outputs": [
        {
          "output_type": "stream",
          "name": "stdout",
          "text": [
            "Requirement already satisfied: spacy in /usr/local/lib/python3.10/dist-packages (3.6.1)\n",
            "Requirement already satisfied: spacy-legacy<3.1.0,>=3.0.11 in /usr/local/lib/python3.10/dist-packages (from spacy) (3.0.12)\n",
            "Requirement already satisfied: spacy-loggers<2.0.0,>=1.0.0 in /usr/local/lib/python3.10/dist-packages (from spacy) (1.0.4)\n",
            "Requirement already satisfied: murmurhash<1.1.0,>=0.28.0 in /usr/local/lib/python3.10/dist-packages (from spacy) (1.0.9)\n",
            "Requirement already satisfied: cymem<2.1.0,>=2.0.2 in /usr/local/lib/python3.10/dist-packages (from spacy) (2.0.7)\n",
            "Requirement already satisfied: preshed<3.1.0,>=3.0.2 in /usr/local/lib/python3.10/dist-packages (from spacy) (3.0.8)\n",
            "Requirement already satisfied: thinc<8.2.0,>=8.1.8 in /usr/local/lib/python3.10/dist-packages (from spacy) (8.1.12)\n",
            "Requirement already satisfied: wasabi<1.2.0,>=0.9.1 in /usr/local/lib/python3.10/dist-packages (from spacy) (1.1.2)\n",
            "Requirement already satisfied: srsly<3.0.0,>=2.4.3 in /usr/local/lib/python3.10/dist-packages (from spacy) (2.4.7)\n",
            "Requirement already satisfied: catalogue<2.1.0,>=2.0.6 in /usr/local/lib/python3.10/dist-packages (from spacy) (2.0.9)\n",
            "Requirement already satisfied: typer<0.10.0,>=0.3.0 in /usr/local/lib/python3.10/dist-packages (from spacy) (0.9.0)\n",
            "Requirement already satisfied: pathy>=0.10.0 in /usr/local/lib/python3.10/dist-packages (from spacy) (0.10.2)\n",
            "Requirement already satisfied: smart-open<7.0.0,>=5.2.1 in /usr/local/lib/python3.10/dist-packages (from spacy) (6.3.0)\n",
            "Requirement already satisfied: tqdm<5.0.0,>=4.38.0 in /usr/local/lib/python3.10/dist-packages (from spacy) (4.66.1)\n",
            "Requirement already satisfied: numpy>=1.15.0 in /usr/local/lib/python3.10/dist-packages (from spacy) (1.23.5)\n",
            "Requirement already satisfied: requests<3.0.0,>=2.13.0 in /usr/local/lib/python3.10/dist-packages (from spacy) (2.31.0)\n",
            "Requirement already satisfied: pydantic!=1.8,!=1.8.1,<3.0.0,>=1.7.4 in /usr/local/lib/python3.10/dist-packages (from spacy) (2.2.1)\n",
            "Requirement already satisfied: jinja2 in /usr/local/lib/python3.10/dist-packages (from spacy) (3.1.2)\n",
            "Requirement already satisfied: setuptools in /usr/local/lib/python3.10/dist-packages (from spacy) (67.7.2)\n",
            "Requirement already satisfied: packaging>=20.0 in /usr/local/lib/python3.10/dist-packages (from spacy) (23.1)\n",
            "Requirement already satisfied: langcodes<4.0.0,>=3.2.0 in /usr/local/lib/python3.10/dist-packages (from spacy) (3.3.0)\n",
            "Requirement already satisfied: annotated-types>=0.4.0 in /usr/local/lib/python3.10/dist-packages (from pydantic!=1.8,!=1.8.1,<3.0.0,>=1.7.4->spacy) (0.5.0)\n",
            "Requirement already satisfied: pydantic-core==2.6.1 in /usr/local/lib/python3.10/dist-packages (from pydantic!=1.8,!=1.8.1,<3.0.0,>=1.7.4->spacy) (2.6.1)\n",
            "Requirement already satisfied: typing-extensions>=4.6.1 in /usr/local/lib/python3.10/dist-packages (from pydantic!=1.8,!=1.8.1,<3.0.0,>=1.7.4->spacy) (4.7.1)\n",
            "Requirement already satisfied: charset-normalizer<4,>=2 in /usr/local/lib/python3.10/dist-packages (from requests<3.0.0,>=2.13.0->spacy) (3.2.0)\n",
            "Requirement already satisfied: idna<4,>=2.5 in /usr/local/lib/python3.10/dist-packages (from requests<3.0.0,>=2.13.0->spacy) (3.4)\n",
            "Requirement already satisfied: urllib3<3,>=1.21.1 in /usr/local/lib/python3.10/dist-packages (from requests<3.0.0,>=2.13.0->spacy) (2.0.4)\n",
            "Requirement already satisfied: certifi>=2017.4.17 in /usr/local/lib/python3.10/dist-packages (from requests<3.0.0,>=2.13.0->spacy) (2023.7.22)\n",
            "Requirement already satisfied: blis<0.8.0,>=0.7.8 in /usr/local/lib/python3.10/dist-packages (from thinc<8.2.0,>=8.1.8->spacy) (0.7.10)\n",
            "Requirement already satisfied: confection<1.0.0,>=0.0.1 in /usr/local/lib/python3.10/dist-packages (from thinc<8.2.0,>=8.1.8->spacy) (0.1.1)\n",
            "Requirement already satisfied: click<9.0.0,>=7.1.1 in /usr/local/lib/python3.10/dist-packages (from typer<0.10.0,>=0.3.0->spacy) (8.1.7)\n",
            "Requirement already satisfied: MarkupSafe>=2.0 in /usr/local/lib/python3.10/dist-packages (from jinja2->spacy) (2.1.3)\n",
            "2023-08-29 04:52:29.111555: I tensorflow/core/platform/cpu_feature_guard.cc:182] This TensorFlow binary is optimized to use available CPU instructions in performance-critical operations.\n",
            "To enable the following instructions: AVX2 FMA, in other operations, rebuild TensorFlow with the appropriate compiler flags.\n",
            "2023-08-29 04:52:30.451029: W tensorflow/compiler/tf2tensorrt/utils/py_utils.cc:38] TF-TRT Warning: Could not find TensorRT\n",
            "Collecting en-core-web-sm==3.6.0\n",
            "  Downloading https://github.com/explosion/spacy-models/releases/download/en_core_web_sm-3.6.0/en_core_web_sm-3.6.0-py3-none-any.whl (12.8 MB)\n",
            "\u001b[2K     \u001b[90m━━━━━━━━━━━━━━━━━━━━━━━━━━━━━━━━━━━━━━━━\u001b[0m \u001b[32m12.8/12.8 MB\u001b[0m \u001b[31m49.8 MB/s\u001b[0m eta \u001b[36m0:00:00\u001b[0m\n",
            "\u001b[?25hRequirement already satisfied: spacy<3.7.0,>=3.6.0 in /usr/local/lib/python3.10/dist-packages (from en-core-web-sm==3.6.0) (3.6.1)\n",
            "Requirement already satisfied: spacy-legacy<3.1.0,>=3.0.11 in /usr/local/lib/python3.10/dist-packages (from spacy<3.7.0,>=3.6.0->en-core-web-sm==3.6.0) (3.0.12)\n",
            "Requirement already satisfied: spacy-loggers<2.0.0,>=1.0.0 in /usr/local/lib/python3.10/dist-packages (from spacy<3.7.0,>=3.6.0->en-core-web-sm==3.6.0) (1.0.4)\n",
            "Requirement already satisfied: murmurhash<1.1.0,>=0.28.0 in /usr/local/lib/python3.10/dist-packages (from spacy<3.7.0,>=3.6.0->en-core-web-sm==3.6.0) (1.0.9)\n",
            "Requirement already satisfied: cymem<2.1.0,>=2.0.2 in /usr/local/lib/python3.10/dist-packages (from spacy<3.7.0,>=3.6.0->en-core-web-sm==3.6.0) (2.0.7)\n",
            "Requirement already satisfied: preshed<3.1.0,>=3.0.2 in /usr/local/lib/python3.10/dist-packages (from spacy<3.7.0,>=3.6.0->en-core-web-sm==3.6.0) (3.0.8)\n",
            "Requirement already satisfied: thinc<8.2.0,>=8.1.8 in /usr/local/lib/python3.10/dist-packages (from spacy<3.7.0,>=3.6.0->en-core-web-sm==3.6.0) (8.1.12)\n",
            "Requirement already satisfied: wasabi<1.2.0,>=0.9.1 in /usr/local/lib/python3.10/dist-packages (from spacy<3.7.0,>=3.6.0->en-core-web-sm==3.6.0) (1.1.2)\n",
            "Requirement already satisfied: srsly<3.0.0,>=2.4.3 in /usr/local/lib/python3.10/dist-packages (from spacy<3.7.0,>=3.6.0->en-core-web-sm==3.6.0) (2.4.7)\n",
            "Requirement already satisfied: catalogue<2.1.0,>=2.0.6 in /usr/local/lib/python3.10/dist-packages (from spacy<3.7.0,>=3.6.0->en-core-web-sm==3.6.0) (2.0.9)\n",
            "Requirement already satisfied: typer<0.10.0,>=0.3.0 in /usr/local/lib/python3.10/dist-packages (from spacy<3.7.0,>=3.6.0->en-core-web-sm==3.6.0) (0.9.0)\n",
            "Requirement already satisfied: pathy>=0.10.0 in /usr/local/lib/python3.10/dist-packages (from spacy<3.7.0,>=3.6.0->en-core-web-sm==3.6.0) (0.10.2)\n",
            "Requirement already satisfied: smart-open<7.0.0,>=5.2.1 in /usr/local/lib/python3.10/dist-packages (from spacy<3.7.0,>=3.6.0->en-core-web-sm==3.6.0) (6.3.0)\n",
            "Requirement already satisfied: tqdm<5.0.0,>=4.38.0 in /usr/local/lib/python3.10/dist-packages (from spacy<3.7.0,>=3.6.0->en-core-web-sm==3.6.0) (4.66.1)\n",
            "Requirement already satisfied: numpy>=1.15.0 in /usr/local/lib/python3.10/dist-packages (from spacy<3.7.0,>=3.6.0->en-core-web-sm==3.6.0) (1.23.5)\n",
            "Requirement already satisfied: requests<3.0.0,>=2.13.0 in /usr/local/lib/python3.10/dist-packages (from spacy<3.7.0,>=3.6.0->en-core-web-sm==3.6.0) (2.31.0)\n",
            "Requirement already satisfied: pydantic!=1.8,!=1.8.1,<3.0.0,>=1.7.4 in /usr/local/lib/python3.10/dist-packages (from spacy<3.7.0,>=3.6.0->en-core-web-sm==3.6.0) (2.2.1)\n",
            "Requirement already satisfied: jinja2 in /usr/local/lib/python3.10/dist-packages (from spacy<3.7.0,>=3.6.0->en-core-web-sm==3.6.0) (3.1.2)\n",
            "Requirement already satisfied: setuptools in /usr/local/lib/python3.10/dist-packages (from spacy<3.7.0,>=3.6.0->en-core-web-sm==3.6.0) (67.7.2)\n",
            "Requirement already satisfied: packaging>=20.0 in /usr/local/lib/python3.10/dist-packages (from spacy<3.7.0,>=3.6.0->en-core-web-sm==3.6.0) (23.1)\n",
            "Requirement already satisfied: langcodes<4.0.0,>=3.2.0 in /usr/local/lib/python3.10/dist-packages (from spacy<3.7.0,>=3.6.0->en-core-web-sm==3.6.0) (3.3.0)\n",
            "Requirement already satisfied: annotated-types>=0.4.0 in /usr/local/lib/python3.10/dist-packages (from pydantic!=1.8,!=1.8.1,<3.0.0,>=1.7.4->spacy<3.7.0,>=3.6.0->en-core-web-sm==3.6.0) (0.5.0)\n",
            "Requirement already satisfied: pydantic-core==2.6.1 in /usr/local/lib/python3.10/dist-packages (from pydantic!=1.8,!=1.8.1,<3.0.0,>=1.7.4->spacy<3.7.0,>=3.6.0->en-core-web-sm==3.6.0) (2.6.1)\n",
            "Requirement already satisfied: typing-extensions>=4.6.1 in /usr/local/lib/python3.10/dist-packages (from pydantic!=1.8,!=1.8.1,<3.0.0,>=1.7.4->spacy<3.7.0,>=3.6.0->en-core-web-sm==3.6.0) (4.7.1)\n",
            "Requirement already satisfied: charset-normalizer<4,>=2 in /usr/local/lib/python3.10/dist-packages (from requests<3.0.0,>=2.13.0->spacy<3.7.0,>=3.6.0->en-core-web-sm==3.6.0) (3.2.0)\n",
            "Requirement already satisfied: idna<4,>=2.5 in /usr/local/lib/python3.10/dist-packages (from requests<3.0.0,>=2.13.0->spacy<3.7.0,>=3.6.0->en-core-web-sm==3.6.0) (3.4)\n",
            "Requirement already satisfied: urllib3<3,>=1.21.1 in /usr/local/lib/python3.10/dist-packages (from requests<3.0.0,>=2.13.0->spacy<3.7.0,>=3.6.0->en-core-web-sm==3.6.0) (2.0.4)\n",
            "Requirement already satisfied: certifi>=2017.4.17 in /usr/local/lib/python3.10/dist-packages (from requests<3.0.0,>=2.13.0->spacy<3.7.0,>=3.6.0->en-core-web-sm==3.6.0) (2023.7.22)\n",
            "Requirement already satisfied: blis<0.8.0,>=0.7.8 in /usr/local/lib/python3.10/dist-packages (from thinc<8.2.0,>=8.1.8->spacy<3.7.0,>=3.6.0->en-core-web-sm==3.6.0) (0.7.10)\n",
            "Requirement already satisfied: confection<1.0.0,>=0.0.1 in /usr/local/lib/python3.10/dist-packages (from thinc<8.2.0,>=8.1.8->spacy<3.7.0,>=3.6.0->en-core-web-sm==3.6.0) (0.1.1)\n",
            "Requirement already satisfied: click<9.0.0,>=7.1.1 in /usr/local/lib/python3.10/dist-packages (from typer<0.10.0,>=0.3.0->spacy<3.7.0,>=3.6.0->en-core-web-sm==3.6.0) (8.1.7)\n",
            "Requirement already satisfied: MarkupSafe>=2.0 in /usr/local/lib/python3.10/dist-packages (from jinja2->spacy<3.7.0,>=3.6.0->en-core-web-sm==3.6.0) (2.1.3)\n",
            "\u001b[38;5;2m✔ Download and installation successful\u001b[0m\n",
            "You can now load the package via spacy.load('en_core_web_sm')\n"
          ]
        }
      ]
    },
    {
      "cell_type": "markdown",
      "source": [
        "##Importing important library"
      ],
      "metadata": {
        "id": "9RPxUNKPLFBO"
      }
    },
    {
      "cell_type": "code",
      "source": [
        "import spacy\n",
        "from spacy.lang.en.stop_words import STOP_WORDS\n",
        "from string import punctuation\n",
        "from heapq import nlargest"
      ],
      "metadata": {
        "id": "6jtksOZkplDA"
      },
      "execution_count": null,
      "outputs": []
    },
    {
      "cell_type": "markdown",
      "source": [
        "##1. Data Cleaning"
      ],
      "metadata": {
        "id": "oHWXA0HoLNx5"
      }
    },
    {
      "cell_type": "code",
      "source": [
        "stopwords = list(STOP_WORDS)\n",
        "stopwords"
      ],
      "metadata": {
        "colab": {
          "base_uri": "https://localhost:8080/"
        },
        "id": "2sAcOpmtq_ya",
        "outputId": "14bf4d4f-c4c4-45f7-a6a9-1f3e008e73d3"
      },
      "execution_count": null,
      "outputs": [
        {
          "output_type": "execute_result",
          "data": {
            "text/plain": [
              "['every',\n",
              " 'many',\n",
              " 'whereafter',\n",
              " 'hundred',\n",
              " 'and',\n",
              " 'beforehand',\n",
              " 'everywhere',\n",
              " 'part',\n",
              " 'fifteen',\n",
              " 'very',\n",
              " 'not',\n",
              " 'down',\n",
              " 'if',\n",
              " 'thus',\n",
              " 'used',\n",
              " 'neither',\n",
              " 'thru',\n",
              " 'indeed',\n",
              " 'whereupon',\n",
              " 'her',\n",
              " 'move',\n",
              " 'for',\n",
              " \"'ve\",\n",
              " 'regarding',\n",
              " 'your',\n",
              " 'themselves',\n",
              " 'noone',\n",
              " 'often',\n",
              " 'whether',\n",
              " 'twelve',\n",
              " 'because',\n",
              " 'we',\n",
              " 'himself',\n",
              " 'their',\n",
              " 'cannot',\n",
              " '’m',\n",
              " 'three',\n",
              " 'against',\n",
              " 'made',\n",
              " 'across',\n",
              " 'as',\n",
              " 'bottom',\n",
              " 'he',\n",
              " 'than',\n",
              " 'third',\n",
              " 'whatever',\n",
              " 'other',\n",
              " 'how',\n",
              " 'had',\n",
              " 'below',\n",
              " 'was',\n",
              " 'or',\n",
              " 'beyond',\n",
              " 'although',\n",
              " 'quite',\n",
              " 'whither',\n",
              " 'after',\n",
              " 'whereby',\n",
              " 'nevertheless',\n",
              " 'due',\n",
              " 'using',\n",
              " 'without',\n",
              " 'several',\n",
              " 'hereafter',\n",
              " 'just',\n",
              " 'yours',\n",
              " 'also',\n",
              " 'meanwhile',\n",
              " 'his',\n",
              " 'nowhere',\n",
              " 'from',\n",
              " 'a',\n",
              " 'hereupon',\n",
              " 'what',\n",
              " 'more',\n",
              " 'beside',\n",
              " 'where',\n",
              " 'whenever',\n",
              " 'herself',\n",
              " '‘ve',\n",
              " 'top',\n",
              " 'besides',\n",
              " 'while',\n",
              " 'forty',\n",
              " \"'s\",\n",
              " 'may',\n",
              " '’s',\n",
              " 'somewhere',\n",
              " 'of',\n",
              " 'sometimes',\n",
              " '‘ll',\n",
              " 'yet',\n",
              " 'its',\n",
              " 'therefore',\n",
              " '’ll',\n",
              " 'whence',\n",
              " 'around',\n",
              " '’ve',\n",
              " 'become',\n",
              " 'out',\n",
              " \"'re\",\n",
              " 'ever',\n",
              " 'does',\n",
              " 'might',\n",
              " 'which',\n",
              " 'up',\n",
              " 'about',\n",
              " 'becoming',\n",
              " 'those',\n",
              " 'give',\n",
              " 'afterwards',\n",
              " 'this',\n",
              " 'same',\n",
              " 'mine',\n",
              " 'hers',\n",
              " 'though',\n",
              " 'under',\n",
              " 'well',\n",
              " 'only',\n",
              " 'perhaps',\n",
              " 'my',\n",
              " 'thereby',\n",
              " 'say',\n",
              " 'during',\n",
              " 'everything',\n",
              " 'hence',\n",
              " 'ourselves',\n",
              " 'ca',\n",
              " 'enough',\n",
              " 'except',\n",
              " 'became',\n",
              " 'empty',\n",
              " 'two',\n",
              " 'seem',\n",
              " 'nine',\n",
              " 'off',\n",
              " 'to',\n",
              " 'you',\n",
              " 'four',\n",
              " 'behind',\n",
              " 'all',\n",
              " 'then',\n",
              " 'be',\n",
              " 'some',\n",
              " 'eight',\n",
              " 'via',\n",
              " 'before',\n",
              " 'seeming',\n",
              " 'formerly',\n",
              " 'former',\n",
              " 'latter',\n",
              " 'please',\n",
              " 'anywhere',\n",
              " 'nothing',\n",
              " 'over',\n",
              " 'even',\n",
              " 'one',\n",
              " 'amount',\n",
              " 'always',\n",
              " 'see',\n",
              " 'unless',\n",
              " 'could',\n",
              " 'doing',\n",
              " 'among',\n",
              " 'whose',\n",
              " 'five',\n",
              " 'along',\n",
              " 'side',\n",
              " 'now',\n",
              " 'most',\n",
              " 'why',\n",
              " 'thereupon',\n",
              " 'however',\n",
              " 'but',\n",
              " 'least',\n",
              " 'once',\n",
              " 'further',\n",
              " 'are',\n",
              " 'together',\n",
              " 'with',\n",
              " 'myself',\n",
              " 'mostly',\n",
              " 'ours',\n",
              " 'on',\n",
              " 'do',\n",
              " 'twenty',\n",
              " 'in',\n",
              " 'sometime',\n",
              " 'per',\n",
              " 'done',\n",
              " 'itself',\n",
              " 'get',\n",
              " 'whoever',\n",
              " 'seems',\n",
              " 'there',\n",
              " 'i',\n",
              " 'should',\n",
              " 'can',\n",
              " 'much',\n",
              " 'each',\n",
              " 'upon',\n",
              " 'by',\n",
              " 'really',\n",
              " 'everyone',\n",
              " 'the',\n",
              " '’re',\n",
              " 'again',\n",
              " 'him',\n",
              " 'ten',\n",
              " \"'d\",\n",
              " 'take',\n",
              " 'first',\n",
              " 'call',\n",
              " 'them',\n",
              " 'keep',\n",
              " 'hereby',\n",
              " 'too',\n",
              " 'who',\n",
              " 'moreover',\n",
              " 'been',\n",
              " \"n't\",\n",
              " 'such',\n",
              " 'whom',\n",
              " 'name',\n",
              " 'were',\n",
              " 'go',\n",
              " 'has',\n",
              " 'front',\n",
              " 'namely',\n",
              " 'here',\n",
              " 'alone',\n",
              " 'being',\n",
              " 'did',\n",
              " 'show',\n",
              " 'any',\n",
              " 'fifty',\n",
              " 'less',\n",
              " 'anything',\n",
              " 'me',\n",
              " 'onto',\n",
              " 'full',\n",
              " 'when',\n",
              " 'have',\n",
              " 'throughout',\n",
              " 'serious',\n",
              " 'whereas',\n",
              " \"'m\",\n",
              " 'back',\n",
              " 'last',\n",
              " 'towards',\n",
              " 'am',\n",
              " 'at',\n",
              " 'anyway',\n",
              " 'toward',\n",
              " 'would',\n",
              " 'herein',\n",
              " 'therein',\n",
              " 'these',\n",
              " 'something',\n",
              " 'n’t',\n",
              " 'until',\n",
              " 'above',\n",
              " 'sixty',\n",
              " 'us',\n",
              " '‘m',\n",
              " 'between',\n",
              " \"'ll\",\n",
              " 'yourselves',\n",
              " 'rather',\n",
              " 'no',\n",
              " 'latterly',\n",
              " 'amongst',\n",
              " 'nor',\n",
              " 'put',\n",
              " 'so',\n",
              " 'since',\n",
              " 'that',\n",
              " 'another',\n",
              " 'whole',\n",
              " '‘s',\n",
              " 'thence',\n",
              " 'either',\n",
              " 'someone',\n",
              " 'into',\n",
              " 'others',\n",
              " 'next',\n",
              " 'she',\n",
              " 'an',\n",
              " 'six',\n",
              " 'both',\n",
              " 'eleven',\n",
              " 'few',\n",
              " 'otherwise',\n",
              " 'our',\n",
              " 'wherever',\n",
              " 'it',\n",
              " 'still',\n",
              " 'they',\n",
              " 'becomes',\n",
              " 'is',\n",
              " 'anyone',\n",
              " 'else',\n",
              " '’d',\n",
              " 'anyhow',\n",
              " 'never',\n",
              " 'through',\n",
              " 'already',\n",
              " 'will',\n",
              " 'must',\n",
              " 'thereafter',\n",
              " 'seemed',\n",
              " 'elsewhere',\n",
              " 'somehow',\n",
              " 'almost',\n",
              " 'nobody',\n",
              " 'wherein',\n",
              " 'n‘t',\n",
              " 'various',\n",
              " 'own',\n",
              " 'yourself',\n",
              " 'within',\n",
              " 're',\n",
              " '‘re',\n",
              " 'make',\n",
              " '‘d',\n",
              " 'none']"
            ]
          },
          "metadata": {},
          "execution_count": 5
        }
      ]
    },
    {
      "cell_type": "code",
      "source": [
        "nlp = spacy.load('en_core_web_sm')"
      ],
      "metadata": {
        "id": "e2F7RC3mrbEo"
      },
      "execution_count": null,
      "outputs": []
    },
    {
      "cell_type": "code",
      "source": [
        "doc = nlp(text)"
      ],
      "metadata": {
        "id": "JTAKFhR5rsmE"
      },
      "execution_count": null,
      "outputs": []
    },
    {
      "cell_type": "markdown",
      "source": [
        "##2. Word Tokenization"
      ],
      "metadata": {
        "id": "y1NtaCjqS1lM"
      }
    },
    {
      "cell_type": "code",
      "source": [
        "tokens = [token.text for token in doc]\n",
        "print(tokens)"
      ],
      "metadata": {
        "colab": {
          "base_uri": "https://localhost:8080/"
        },
        "id": "-5MV1_oWrxqr",
        "outputId": "3f1f4050-6439-49ba-ccf2-e162be41e99a"
      },
      "execution_count": null,
      "outputs": [
        {
          "output_type": "stream",
          "name": "stdout",
          "text": [
            "['\\n', 'Ever', 'noticed', 'how', 'plane', 'seats', 'appear', 'to', 'be', 'getting', 'smaller', 'and', 'smaller', '?', 'With', 'increasing', 'numbers', 'of', 'people', 'taking', 'to', 'the', 'skies', ',', 'some', 'experts', 'are', 'questioning', 'if', 'having', 'such', 'packed', 'out', 'planes', 'is', 'putting', 'passengers', 'at', 'risk', '.', 'They', 'say', 'that', 'the', 'shrinking', 'space', 'on', 'aeroplanes', 'is', 'not', 'only', 'uncomfortable', '-', 'it', \"'s\", 'putting', 'our', 'health', 'and', 'safety', 'in', 'danger', '.', 'More', 'than', 'squabbling', 'over', 'the', 'arm', 'rest', ',', 'shrinking', 'space', 'on', 'planes', 'putting', 'our', 'health', 'and', 'safety', 'in', 'danger', '?', 'This', 'week', ',', 'a', 'U.S', 'consumer', 'advisory', 'group', 'set', 'up', 'by', 'the', 'Department', 'of', 'Transportation', 'said', 'at', 'a', 'public', 'hearing', 'that', 'while', 'the', 'government', 'is', 'happy', 'to', 'set', 'standards', 'for', 'animals', 'flying', 'on', 'planes', ',', 'it', 'does', \"n't\", 'stipulate', 'a', 'minimum', 'amount', 'of', 'space', 'for', 'humans', '.', \"'\", 'In', 'a', 'world', 'where', 'animals', 'have', 'more', 'rights', 'to', 'space', 'and', 'food', 'than', 'humans', ',', \"'\", 'said', 'Charlie', 'Leocha', ',', 'consumer', 'representative', 'on', 'the', 'committee', '.', '\\xa0', \"'\", 'It', 'is', 'time', 'that', 'the', 'DOT', 'and', 'FAA', 'take', 'a', 'stand', 'for', 'humane', 'treatment', 'of', 'passengers', '.', \"'\", 'But', 'could', 'crowding', 'on', 'planes', 'lead', 'to', 'more', 'serious', 'issues', 'than', 'fighting', 'for', 'space', 'in', 'the', 'overhead', 'lockers', ',', 'crashing', 'elbows', 'and', 'seat', 'back', 'kicking', '?', 'Tests', 'conducted', 'by', 'the', 'FAA', 'use', 'planes', 'with', 'a', '31', 'inch', 'pitch', ',', 'a', 'standard', 'which', 'on', 'some', 'airlines', 'has', 'decreased', '.', 'Many', 'economy', 'seats', 'on', 'United', 'Airlines', 'have', '30', 'inches', 'of', 'room', ',', 'while', 'some', 'airlines', 'offer', 'as', 'little', 'as', '28', 'inches', '.', 'Cynthia', 'Corbertt', ',', 'a', 'human', 'factors', 'researcher', 'with', 'the', 'Federal', 'Aviation', 'Administration', ',', 'that', 'it', 'conducts', 'tests', 'on', 'how', 'quickly', 'passengers', 'can', 'leave', 'a', 'plane', '.', 'But', 'these', 'tests', 'are', 'conducted', 'using', 'planes', 'with', '31', 'inches', 'between', 'each', 'row', 'of', 'seats', ',', 'a', 'standard', 'which', 'on', 'some', 'airlines', 'has', 'decreased', ',', 'reported', 'the', 'Detroit', 'News', '.', 'The', 'distance', 'between', 'two', 'seats', 'from', 'one', 'point', 'on', 'a', 'seat', 'to', 'the', 'same', 'point', 'on', 'the', 'seat', 'behind', 'it', 'is', 'known', 'as', 'the', 'pitch', '.', 'While', 'most', 'airlines', 'stick', 'to', 'a', 'pitch', 'of', '31', 'inches', 'or', 'above', ',', 'some', 'fall', 'below', 'this', '.', 'While', 'United', 'Airlines', 'has', '30', 'inches', 'of', 'space', ',', 'Gulf', 'Air', 'economy', 'seats', 'have', 'between', '29', 'and', '32', 'inches', ',', 'Air', 'Asia', 'offers', '29', 'inches', 'and', 'Spirit', 'Airlines', 'offers', 'just', '28', 'inches', '.', 'British', 'Airways', 'has', 'a', 'seat', 'pitch', 'of', '31', 'inches', ',', 'while', 'easyJet', 'has', '29', 'inches', ',', 'Thomson', \"'s\", 'short', 'haul', 'seat', 'pitch', 'is', '28', 'inches', ',', 'and', 'Virgin', 'Atlantic', \"'s\", 'is', '30', '-', '31', '.', '\\n']\n"
          ]
        }
      ]
    },
    {
      "cell_type": "code",
      "source": [
        "punctuation = punctuation + '\\n'\n",
        "punctuation"
      ],
      "metadata": {
        "colab": {
          "base_uri": "https://localhost:8080/",
          "height": 56
        },
        "id": "kFO7sCxYsDQ0",
        "outputId": "390f6b69-f989-4344-b4b4-118a32263abb"
      },
      "execution_count": null,
      "outputs": [
        {
          "output_type": "execute_result",
          "data": {
            "text/plain": [
              "'!\"#$%&\\'()*+,-./:;<=>?@[\\\\]^_`{|}~\\n'"
            ],
            "application/vnd.google.colaboratory.intrinsic+json": {
              "type": "string"
            }
          },
          "metadata": {},
          "execution_count": 9
        }
      ]
    },
    {
      "cell_type": "markdown",
      "source": [
        "##3. Word Frequency Table"
      ],
      "metadata": {
        "id": "xcJVq6j_M2aY"
      }
    },
    {
      "cell_type": "code",
      "source": [
        "word_frequencies = {}\n",
        "for word in doc:\n",
        "  if word.text.lower() not in stopwords:\n",
        "    if word.text.lower() not in punctuation:\n",
        "      if word.text not in word_frequencies:\n",
        "        word_frequencies[word.text] = 1\n",
        "      else:\n",
        "        word_frequencies[word.text] += 1"
      ],
      "metadata": {
        "id": "1Hds0ECrM4qP"
      },
      "execution_count": null,
      "outputs": []
    },
    {
      "cell_type": "code",
      "source": [
        "print(word_frequencies)"
      ],
      "metadata": {
        "colab": {
          "base_uri": "https://localhost:8080/"
        },
        "id": "0RePwrRPNkFb",
        "outputId": "87744977-43ef-46e3-ed6c-8726e92595bb"
      },
      "execution_count": null,
      "outputs": [
        {
          "output_type": "stream",
          "name": "stdout",
          "text": [
            "{'noticed': 1, 'plane': 2, 'seats': 5, 'appear': 1, 'getting': 1, 'smaller': 2, 'increasing': 1, 'numbers': 1, 'people': 1, 'taking': 1, 'skies': 1, 'experts': 1, 'questioning': 1, 'having': 1, 'packed': 1, 'planes': 6, 'putting': 3, 'passengers': 3, 'risk': 1, 'shrinking': 2, 'space': 6, 'aeroplanes': 1, 'uncomfortable': 1, 'health': 2, 'safety': 2, 'danger': 2, 'squabbling': 1, 'arm': 1, 'rest': 1, 'week': 1, 'U.S': 1, 'consumer': 2, 'advisory': 1, 'group': 1, 'set': 2, 'Department': 1, 'Transportation': 1, 'said': 2, 'public': 1, 'hearing': 1, 'government': 1, 'happy': 1, 'standards': 1, 'animals': 2, 'flying': 1, 'stipulate': 1, 'minimum': 1, 'humans': 2, 'world': 1, 'rights': 1, 'food': 1, 'Charlie': 1, 'Leocha': 1, 'representative': 1, 'committee': 1, '\\xa0': 1, 'time': 1, 'DOT': 1, 'FAA': 2, 'stand': 1, 'humane': 1, 'treatment': 1, 'crowding': 1, 'lead': 1, 'issues': 1, 'fighting': 1, 'overhead': 1, 'lockers': 1, 'crashing': 1, 'elbows': 1, 'seat': 5, 'kicking': 1, 'Tests': 1, 'conducted': 2, 'use': 1, '31': 5, 'inch': 1, 'pitch': 5, 'standard': 2, 'airlines': 4, 'decreased': 2, 'economy': 2, 'United': 2, 'Airlines': 3, '30': 3, 'inches': 11, 'room': 1, 'offer': 1, 'little': 1, '28': 3, 'Cynthia': 1, 'Corbertt': 1, 'human': 1, 'factors': 1, 'researcher': 1, 'Federal': 1, 'Aviation': 1, 'Administration': 1, 'conducts': 1, 'tests': 2, 'quickly': 1, 'leave': 1, 'row': 1, 'reported': 1, 'Detroit': 1, 'News': 1, 'distance': 1, 'point': 2, 'known': 1, 'stick': 1, 'fall': 1, 'Gulf': 1, 'Air': 2, '29': 3, '32': 1, 'Asia': 1, 'offers': 2, 'Spirit': 1, 'British': 1, 'Airways': 1, 'easyJet': 1, 'Thomson': 1, 'short': 1, 'haul': 1, 'Virgin': 1, 'Atlantic': 1}\n"
          ]
        }
      ]
    },
    {
      "cell_type": "code",
      "source": [
        "max_frequency = max(word_frequencies.values())"
      ],
      "metadata": {
        "id": "rEJfrs9BN-VU"
      },
      "execution_count": null,
      "outputs": []
    },
    {
      "cell_type": "code",
      "source": [
        "max_frequency"
      ],
      "metadata": {
        "colab": {
          "base_uri": "https://localhost:8080/"
        },
        "id": "iwbYDJcFOFCG",
        "outputId": "46fca45d-f9fb-4d34-d5de-ad33e4ae1ba8"
      },
      "execution_count": null,
      "outputs": [
        {
          "output_type": "execute_result",
          "data": {
            "text/plain": [
              "11"
            ]
          },
          "metadata": {},
          "execution_count": 13
        }
      ]
    },
    {
      "cell_type": "markdown",
      "source": [
        "##Frequency normalization\n",
        "-- dividing every value with the max_frequency i.e 11"
      ],
      "metadata": {
        "id": "olDoB-nzOc2g"
      }
    },
    {
      "cell_type": "code",
      "source": [
        "for word in word_frequencies.keys():\n",
        "  word_frequencies[word] = word_frequencies[word]/max_frequency"
      ],
      "metadata": {
        "id": "otSXWnfyOcXm"
      },
      "execution_count": null,
      "outputs": []
    },
    {
      "cell_type": "code",
      "source": [
        "word_frequencies"
      ],
      "metadata": {
        "colab": {
          "base_uri": "https://localhost:8080/"
        },
        "id": "G9wLje2PPAJ8",
        "outputId": "565c17b0-432e-4b36-8a6e-c5e293e77583"
      },
      "execution_count": null,
      "outputs": [
        {
          "output_type": "execute_result",
          "data": {
            "text/plain": [
              "{'noticed': 0.09090909090909091,\n",
              " 'plane': 0.18181818181818182,\n",
              " 'seats': 0.45454545454545453,\n",
              " 'appear': 0.09090909090909091,\n",
              " 'getting': 0.09090909090909091,\n",
              " 'smaller': 0.18181818181818182,\n",
              " 'increasing': 0.09090909090909091,\n",
              " 'numbers': 0.09090909090909091,\n",
              " 'people': 0.09090909090909091,\n",
              " 'taking': 0.09090909090909091,\n",
              " 'skies': 0.09090909090909091,\n",
              " 'experts': 0.09090909090909091,\n",
              " 'questioning': 0.09090909090909091,\n",
              " 'having': 0.09090909090909091,\n",
              " 'packed': 0.09090909090909091,\n",
              " 'planes': 0.5454545454545454,\n",
              " 'putting': 0.2727272727272727,\n",
              " 'passengers': 0.2727272727272727,\n",
              " 'risk': 0.09090909090909091,\n",
              " 'shrinking': 0.18181818181818182,\n",
              " 'space': 0.5454545454545454,\n",
              " 'aeroplanes': 0.09090909090909091,\n",
              " 'uncomfortable': 0.09090909090909091,\n",
              " 'health': 0.18181818181818182,\n",
              " 'safety': 0.18181818181818182,\n",
              " 'danger': 0.18181818181818182,\n",
              " 'squabbling': 0.09090909090909091,\n",
              " 'arm': 0.09090909090909091,\n",
              " 'rest': 0.09090909090909091,\n",
              " 'week': 0.09090909090909091,\n",
              " 'U.S': 0.09090909090909091,\n",
              " 'consumer': 0.18181818181818182,\n",
              " 'advisory': 0.09090909090909091,\n",
              " 'group': 0.09090909090909091,\n",
              " 'set': 0.18181818181818182,\n",
              " 'Department': 0.09090909090909091,\n",
              " 'Transportation': 0.09090909090909091,\n",
              " 'said': 0.18181818181818182,\n",
              " 'public': 0.09090909090909091,\n",
              " 'hearing': 0.09090909090909091,\n",
              " 'government': 0.09090909090909091,\n",
              " 'happy': 0.09090909090909091,\n",
              " 'standards': 0.09090909090909091,\n",
              " 'animals': 0.18181818181818182,\n",
              " 'flying': 0.09090909090909091,\n",
              " 'stipulate': 0.09090909090909091,\n",
              " 'minimum': 0.09090909090909091,\n",
              " 'humans': 0.18181818181818182,\n",
              " 'world': 0.09090909090909091,\n",
              " 'rights': 0.09090909090909091,\n",
              " 'food': 0.09090909090909091,\n",
              " 'Charlie': 0.09090909090909091,\n",
              " 'Leocha': 0.09090909090909091,\n",
              " 'representative': 0.09090909090909091,\n",
              " 'committee': 0.09090909090909091,\n",
              " '\\xa0': 0.09090909090909091,\n",
              " 'time': 0.09090909090909091,\n",
              " 'DOT': 0.09090909090909091,\n",
              " 'FAA': 0.18181818181818182,\n",
              " 'stand': 0.09090909090909091,\n",
              " 'humane': 0.09090909090909091,\n",
              " 'treatment': 0.09090909090909091,\n",
              " 'crowding': 0.09090909090909091,\n",
              " 'lead': 0.09090909090909091,\n",
              " 'issues': 0.09090909090909091,\n",
              " 'fighting': 0.09090909090909091,\n",
              " 'overhead': 0.09090909090909091,\n",
              " 'lockers': 0.09090909090909091,\n",
              " 'crashing': 0.09090909090909091,\n",
              " 'elbows': 0.09090909090909091,\n",
              " 'seat': 0.45454545454545453,\n",
              " 'kicking': 0.09090909090909091,\n",
              " 'Tests': 0.09090909090909091,\n",
              " 'conducted': 0.18181818181818182,\n",
              " 'use': 0.09090909090909091,\n",
              " '31': 0.45454545454545453,\n",
              " 'inch': 0.09090909090909091,\n",
              " 'pitch': 0.45454545454545453,\n",
              " 'standard': 0.18181818181818182,\n",
              " 'airlines': 0.36363636363636365,\n",
              " 'decreased': 0.18181818181818182,\n",
              " 'economy': 0.18181818181818182,\n",
              " 'United': 0.18181818181818182,\n",
              " 'Airlines': 0.2727272727272727,\n",
              " '30': 0.2727272727272727,\n",
              " 'inches': 1.0,\n",
              " 'room': 0.09090909090909091,\n",
              " 'offer': 0.09090909090909091,\n",
              " 'little': 0.09090909090909091,\n",
              " '28': 0.2727272727272727,\n",
              " 'Cynthia': 0.09090909090909091,\n",
              " 'Corbertt': 0.09090909090909091,\n",
              " 'human': 0.09090909090909091,\n",
              " 'factors': 0.09090909090909091,\n",
              " 'researcher': 0.09090909090909091,\n",
              " 'Federal': 0.09090909090909091,\n",
              " 'Aviation': 0.09090909090909091,\n",
              " 'Administration': 0.09090909090909091,\n",
              " 'conducts': 0.09090909090909091,\n",
              " 'tests': 0.18181818181818182,\n",
              " 'quickly': 0.09090909090909091,\n",
              " 'leave': 0.09090909090909091,\n",
              " 'row': 0.09090909090909091,\n",
              " 'reported': 0.09090909090909091,\n",
              " 'Detroit': 0.09090909090909091,\n",
              " 'News': 0.09090909090909091,\n",
              " 'distance': 0.09090909090909091,\n",
              " 'point': 0.18181818181818182,\n",
              " 'known': 0.09090909090909091,\n",
              " 'stick': 0.09090909090909091,\n",
              " 'fall': 0.09090909090909091,\n",
              " 'Gulf': 0.09090909090909091,\n",
              " 'Air': 0.18181818181818182,\n",
              " '29': 0.2727272727272727,\n",
              " '32': 0.09090909090909091,\n",
              " 'Asia': 0.09090909090909091,\n",
              " 'offers': 0.18181818181818182,\n",
              " 'Spirit': 0.09090909090909091,\n",
              " 'British': 0.09090909090909091,\n",
              " 'Airways': 0.09090909090909091,\n",
              " 'easyJet': 0.09090909090909091,\n",
              " 'Thomson': 0.09090909090909091,\n",
              " 'short': 0.09090909090909091,\n",
              " 'haul': 0.09090909090909091,\n",
              " 'Virgin': 0.09090909090909091,\n",
              " 'Atlantic': 0.09090909090909091}"
            ]
          },
          "metadata": {},
          "execution_count": 15
        }
      ]
    },
    {
      "cell_type": "markdown",
      "source": [
        "##4. Sentence Tokenization\n",
        "o/p --> list of sentences"
      ],
      "metadata": {
        "id": "3mtFAWFWPL--"
      }
    },
    {
      "cell_type": "code",
      "source": [
        "sentence_tokens = [sent for sent in doc.sents]\n",
        "print(sentence_tokens)"
      ],
      "metadata": {
        "colab": {
          "base_uri": "https://localhost:8080/"
        },
        "id": "ciXiBRZyPOKS",
        "outputId": "009e5ea7-f42d-403b-d943-3a9dcb3274fa"
      },
      "execution_count": null,
      "outputs": [
        {
          "output_type": "stream",
          "name": "stdout",
          "text": [
            "[\n",
            "Ever noticed how plane seats appear to be getting smaller and smaller?, With increasing numbers of people taking to the skies, some experts are questioning if having such packed out planes is putting passengers at risk., They say that the shrinking space on aeroplanes is not only uncomfortable - it's putting our health and safety in danger., More than squabbling over the arm rest, shrinking space on planes putting our health and safety in danger?, This week, a U.S consumer advisory group set up by the Department of Transportation said at a public hearing that while the government is happy to set standards for animals flying on planes, it doesn't stipulate a minimum amount of space for humans., 'In a world where animals have more rights to space and food than humans,' said Charlie Leocha, consumer representative on the committee. , 'It is time that the DOT and FAA take a stand for humane treatment of passengers.', But could crowding on planes lead to more serious issues than fighting for space in the overhead lockers, crashing elbows and seat back kicking?, Tests conducted by the FAA use planes with a 31 inch pitch, a standard which on some airlines has decreased ., Many economy seats on United Airlines have 30 inches of room, while some airlines offer as little as 28 inches ., Cynthia Corbertt, a human factors researcher with the Federal Aviation Administration, that it conducts tests on how quickly passengers can leave a plane., But these tests are conducted using planes with 31 inches between each row of seats, a standard which on some airlines has decreased, reported the Detroit News., The distance between two seats from one point on a seat to the same point on the seat behind it is known as the pitch., While most airlines stick to a pitch of 31 inches or above, some fall below this., While United Airlines has 30 inches of space, Gulf Air economy seats have between 29 and 32 inches, Air Asia offers 29 inches and Spirit Airlines offers just 28 inches., British Airways has a seat pitch of 31 inches, while easyJet has 29 inches, Thomson's short haul seat pitch is 28 inches, and Virgin Atlantic's is 30-31.\n",
            "]\n"
          ]
        }
      ]
    },
    {
      "cell_type": "code",
      "source": [
        "sentence_scores = {}\n",
        "for sent in sentence_tokens:\n",
        "  for word in sent:\n",
        "    if word.text.lower() in word_frequencies.keys():\n",
        "      if sent not in sentence_scores.keys():\n",
        "        sentence_scores[sent] = word_frequencies[word.text.lower()]\n",
        "      else:\n",
        "        sentence_scores[sent] += word_frequencies[word.text.lower()]"
      ],
      "metadata": {
        "id": "ZylMA0EiRHzm"
      },
      "execution_count": null,
      "outputs": []
    },
    {
      "cell_type": "code",
      "source": [
        "sentence_scores"
      ],
      "metadata": {
        "colab": {
          "base_uri": "https://localhost:8080/"
        },
        "id": "3NpszC_1S_p4",
        "outputId": "5ca31751-4dcd-4b92-c3fd-1c7b33052b4f"
      },
      "execution_count": null,
      "outputs": [
        {
          "output_type": "execute_result",
          "data": {
            "text/plain": [
              "{\n",
              " Ever noticed how plane seats appear to be getting smaller and smaller?: 1.272727272727273,\n",
              " With increasing numbers of people taking to the skies, some experts are questioning if having such packed out planes is putting passengers at risk.: 2.0,\n",
              " They say that the shrinking space on aeroplanes is not only uncomfortable - it's putting our health and safety in danger.: 1.7272727272727275,\n",
              " More than squabbling over the arm rest, shrinking space on planes putting our health and safety in danger?: 2.3636363636363633,\n",
              " This week, a U.S consumer advisory group set up by the Department of Transportation said at a public hearing that while the government is happy to set standards for animals flying on planes, it doesn't stipulate a minimum amount of space for humans.: 3.181818181818181,\n",
              " 'In a world where animals have more rights to space and food than humans,' said Charlie Leocha, consumer representative on the committee. : 1.8181818181818181,\n",
              " 'It is time that the DOT and FAA take a stand for humane treatment of passengers.': 0.6363636363636364,\n",
              " But could crowding on planes lead to more serious issues than fighting for space in the overhead lockers, crashing elbows and seat back kicking?: 2.3636363636363633,\n",
              " Tests conducted by the FAA use planes with a 31 inch pitch, a standard which on some airlines has decreased .: 2.727272727272727,\n",
              " Many economy seats on United Airlines have 30 inches of room, while some airlines offer as little as 28 inches .: 4.181818181818182,\n",
              " Cynthia Corbertt, a human factors researcher with the Federal Aviation Administration, that it conducts tests on how quickly passengers can leave a plane.: 1.1818181818181819,\n",
              " But these tests are conducted using planes with 31 inches between each row of seats, a standard which on some airlines has decreased, reported the Detroit News.: 3.7272727272727266,\n",
              " The distance between two seats from one point on a seat to the same point on the seat behind it is known as the pitch.: 2.3636363636363638,\n",
              " While most airlines stick to a pitch of 31 inches or above, some fall below this.: 2.4545454545454546,\n",
              " While United Airlines has 30 inches of space, Gulf Air economy seats have between 29 and 32 inches, Air Asia offers 29 inches and Spirit Airlines offers just 28 inches.: 7.454545454545453,\n",
              " British Airways has a seat pitch of 31 inches, while easyJet has 29 inches, Thomson's short haul seat pitch is 28 inches, and Virgin Atlantic's is 30-31.: 6.727272727272725}"
            ]
          },
          "metadata": {},
          "execution_count": 18
        }
      ]
    },
    {
      "cell_type": "markdown",
      "source": [
        "##5. Summarization\n"
      ],
      "metadata": {
        "id": "6I38oirRThj0"
      }
    },
    {
      "cell_type": "code",
      "source": [
        "from heapq import nlargest"
      ],
      "metadata": {
        "id": "o2ltOtMcTY4t"
      },
      "execution_count": null,
      "outputs": []
    },
    {
      "cell_type": "code",
      "source": [
        "select_length = int(len(sentence_tokens)*0.3)\n",
        "select_length"
      ],
      "metadata": {
        "colab": {
          "base_uri": "https://localhost:8080/"
        },
        "id": "lrjpdDIUTmBg",
        "outputId": "a96c07ee-beaa-4558-96b2-dcc64ff30de2"
      },
      "execution_count": null,
      "outputs": [
        {
          "output_type": "execute_result",
          "data": {
            "text/plain": [
              "4"
            ]
          },
          "metadata": {},
          "execution_count": 20
        }
      ]
    },
    {
      "cell_type": "code",
      "source": [
        "summary = nlargest(select_length, sentence_scores, key = sentence_scores.get)"
      ],
      "metadata": {
        "id": "uooACPF5T3v-"
      },
      "execution_count": null,
      "outputs": []
    },
    {
      "cell_type": "code",
      "source": [
        "summary"
      ],
      "metadata": {
        "colab": {
          "base_uri": "https://localhost:8080/",
          "height": 144
        },
        "id": "yGAylKo-U9hx",
        "outputId": "80191f9e-36dc-4fc1-c0ca-f89330bb97d2"
      },
      "execution_count": null,
      "outputs": [
        {
          "output_type": "execute_result",
          "data": {
            "text/plain": [
              "\"While United Airlines has 30 inches of space, Gulf Air economy seats have between 29 and 32 inches, Air Asia offers 29 inches and Spirit Airlines offers just 28 inches.British Airways has a seat pitch of 31 inches, while easyJet has 29 inches, Thomson's short haul seat pitch is 28 inches, and Virgin Atlantic's is 30-31.\\nMany economy seats on United Airlines have 30 inches of room, while some airlines offer as little as 28 inches .But these tests are conducted using planes with 31 inches between each row of seats, a standard which on some airlines has decreased, reported the Detroit News.\""
            ],
            "application/vnd.google.colaboratory.intrinsic+json": {
              "type": "string"
            }
          },
          "metadata": {},
          "execution_count": 24
        }
      ]
    },
    {
      "cell_type": "code",
      "source": [
        "summary"
      ],
      "metadata": {
        "colab": {
          "base_uri": "https://localhost:8080/"
        },
        "id": "FX5f4hZaURpo",
        "outputId": "231004b8-adcf-44a7-f560-3a08100a9a58"
      },
      "execution_count": null,
      "outputs": [
        {
          "output_type": "execute_result",
          "data": {
            "text/plain": [
              "[While United Airlines has 30 inches of space, Gulf Air economy seats have between 29 and 32 inches, Air Asia offers 29 inches and Spirit Airlines offers just 28 inches.,\n",
              " British Airways has a seat pitch of 31 inches, while easyJet has 29 inches, Thomson's short haul seat pitch is 28 inches, and Virgin Atlantic's is 30-31.,\n",
              " Many economy seats on United Airlines have 30 inches of room, while some airlines offer as little as 28 inches .,\n",
              " But these tests are conducted using planes with 31 inches between each row of seats, a standard which on some airlines has decreased, reported the Detroit News.]"
            ]
          },
          "metadata": {},
          "execution_count": 22
        }
      ]
    },
    {
      "cell_type": "code",
      "source": [
        "final_summary = [word.text for word in summary]\n",
        "summary = ''.join(final_summary)"
      ],
      "metadata": {
        "id": "OKTGTGiUUt2s"
      },
      "execution_count": null,
      "outputs": []
    },
    {
      "cell_type": "code",
      "source": [
        "len(text)"
      ],
      "metadata": {
        "colab": {
          "base_uri": "https://localhost:8080/"
        },
        "id": "DSD9s8-JVIEF",
        "outputId": "583a8d68-999a-4d22-f8b8-3185906b485f"
      },
      "execution_count": null,
      "outputs": [
        {
          "output_type": "execute_result",
          "data": {
            "text/plain": [
              "2128"
            ]
          },
          "metadata": {},
          "execution_count": 25
        }
      ]
    },
    {
      "cell_type": "code",
      "source": [
        "len(summary)"
      ],
      "metadata": {
        "colab": {
          "base_uri": "https://localhost:8080/"
        },
        "id": "F_T3Jo8PVKhj",
        "outputId": "c9d895bc-82c0-41aa-95fd-f864b231d578"
      },
      "execution_count": null,
      "outputs": [
        {
          "output_type": "execute_result",
          "data": {
            "text/plain": [
              "594"
            ]
          },
          "metadata": {},
          "execution_count": 26
        }
      ]
    }
  ]
}